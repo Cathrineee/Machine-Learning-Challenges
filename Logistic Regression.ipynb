{
 "cells": [
  {
   "cell_type": "markdown",
   "metadata": {},
   "source": [
    "# Logistic Regression\n",
    "\n",
    "\n",
    "We will implement the logistic regression algorithm with the following parameters.  \n",
    "\n",
    "Let $\\Pr(C_1|x) = \\sigma({\\bf{w}}^T{\\bf{x}}+w_0)$ and $\\Pr(C_2|{\\bf{x}}) = 1 - \\sigma({\\bf{w}}^T{\\bf{x}}+w_0)$.  Learn the parameters ${\\bf{w}}$ and $w_0$ by conditional likelihood maximization. More specifically we will use Newton's algorithm to optimize the parameters and add a penalty of $0.5\\lambda ||\\bf{w}||_2^2$ to regularize the weights. Then we will find the optimal hyperparameter $\\lambda$ by 10-fold cross-validation.\n",
    "\n",
    "\n",
    "\n",
    "We know $\\sigma(\\mathbf w^T\\mathbf x+w_0)=\\frac{1}{1+\\exp\\{\\mathbf w^T\\mathbf x+w_0\\}}$, and the conditional likelihood maximization with the penalty is $\\min_w \\sum_{i=1}^n\\mathrm{lgt}(y_i\\vec{w}^T\\vec{x}_i)+0.5\\lambda\\Vert \\mathbf w\\Vert^2$, and using the Newton's algorithm, we first compute the gradient and get\n",
    "$$\n",
    "\\nabla_w \\left(\\mathrm{lgt}(y_i\\vec{w}^T\\vec{x}_i)+0.5\\lambda \\Vert\\mathbf w\\Vert^2\\right)=\\left(p(\\mathbf x_i;\\vec{w})-\\frac{y_i+1}{2}\\right)\\vec{x}_i+\\lambda\\mathbf w\n",
    "$$\n",
    "where $\\vec{w}=[\\mathbf w,w_0]^T$, and $\\vec{x}_i=[\\mathbf x_1,1]^T$. Then, the hessian is\n",
    "$$\n",
    "H_i=\\vec{x}_i[\\nabla_w p(\\mathbf x_i;\\vec{w})]^T+\\lambda I= \\sigma(\\mathbf w^T\\mathbf x+w_0)[1-\\sigma(\\mathbf w^T\\mathbf x+w_0)]\\vec{x}_i{\\vec{x}_i}^T+\\lambda I\n",
    "$$"
   ]
  },
  {
   "cell_type": "code",
   "execution_count": 59,
   "metadata": {},
   "outputs": [],
   "source": [
    "import numpy as np\n",
    "from numpy import linalg as LA\n",
    "import matplotlib.pyplot as plt\n",
    "import pandas as pd\n",
    "import time\n",
    "from sklearn.preprocessing import StandardScaler\n",
    "import math"
   ]
  },
  {
   "cell_type": "code",
   "execution_count": 60,
   "metadata": {},
   "outputs": [],
   "source": [
    "X_1 = pd.read_csv(\"datasets/logistic_regression-dataset/trainData1.csv\", header=None).to_numpy()\n",
    "X_2 = pd.read_csv(\"datasets/logistic_regression-dataset/trainData2.csv\", header=None).to_numpy()\n",
    "X_3 = pd.read_csv(\"datasets/logistic_regression-dataset/trainData3.csv\", header=None).to_numpy()\n",
    "X_4 = pd.read_csv(\"datasets/logistic_regression-dataset/trainData4.csv\", header=None).to_numpy()\n",
    "X_5 = pd.read_csv(\"datasets/logistic_regression-dataset/trainData5.csv\", header=None).to_numpy()\n",
    "X_6 = pd.read_csv(\"datasets/logistic_regression-dataset/trainData6.csv\", header=None).to_numpy()\n",
    "X_7 = pd.read_csv(\"datasets/logistic_regression-dataset/trainData7.csv\", header=None).to_numpy()\n",
    "X_8 = pd.read_csv(\"datasets/logistic_regression-dataset/trainData8.csv\", header=None).to_numpy()\n",
    "X_9 = pd.read_csv(\"datasets/logistic_regression-dataset/trainData9.csv\", header=None).to_numpy()\n",
    "X_10 = pd.read_csv(\"datasets/logistic_regression-dataset/trainData10.csv\", header=None).to_numpy()\n",
    "Y_1 = pd.read_csv(\"datasets/logistic_regression-dataset/trainLabels1.csv\", header=None).to_numpy()\n",
    "Y_2 = pd.read_csv(\"datasets/logistic_regression-dataset/trainLabels2.csv\", header=None).to_numpy()\n",
    "Y_3 = pd.read_csv(\"datasets/logistic_regression-dataset/trainLabels3.csv\", header=None).to_numpy()\n",
    "Y_4 = pd.read_csv(\"datasets/logistic_regression-dataset/trainLabels4.csv\", header=None).to_numpy()\n",
    "Y_5 = pd.read_csv(\"datasets/logistic_regression-dataset/trainLabels5.csv\", header=None).to_numpy()\n",
    "Y_6 = pd.read_csv(\"datasets/logistic_regression-dataset/trainLabels6.csv\", header=None).to_numpy()\n",
    "Y_7 = pd.read_csv(\"datasets/logistic_regression-dataset/trainLabels7.csv\", header=None).to_numpy()\n",
    "Y_8 = pd.read_csv(\"datasets/logistic_regression-dataset/trainLabels8.csv\", header=None).to_numpy()\n",
    "Y_9 = pd.read_csv(\"datasets/logistic_regression-dataset/trainLabels9.csv\", header=None).to_numpy()\n",
    "Y_10 = pd.read_csv(\"datasets/logistic_regression-dataset/trainLabels10.csv\", header=None).to_numpy()\n",
    "test_X = pd.read_csv(\"datasets/logistic_regression-dataset/testData.csv\", header=None).to_numpy()\n",
    "test_Y = pd.read_csv(\"datasets/logistic_regression-dataset/testLabels.csv\", header=None).to_numpy()\n",
    "\n",
    "X = [X_1,X_2,X_3,X_4,X_5,X_6,X_7,X_8,X_9,X_10]\n",
    "Y = [Y_1,Y_2,Y_3,Y_4,Y_5,Y_6,Y_7,Y_8,Y_9,Y_10]\n",
    "# scaler = StandardScaler()\n",
    "# for i in range(10):\n",
    "#     X[i] = scaler.fit_transform(X[i])\n",
    "# test_x = scaler.fit_transform(test_X)\n",
    "for i in range(10):\n",
    "    for j in range(len(Y[i])):\n",
    "        Y[i][j] = -1 if Y[i][j] == 5 else 1\n",
    "for i in range(len(test_Y)):\n",
    "    test_Y[i] = -1 if test_Y[i] == 5 else 1\n"
   ]
  },
  {
   "cell_type": "code",
   "execution_count": 61,
   "metadata": {},
   "outputs": [],
   "source": [
    "def lgt(t):\n",
    "    return math.log(1 + math.exp(-1 * t))\n",
    "def sgm(t):\n",
    "    return 1 / (1 + math.exp(-1 * t))\n",
    "\n",
    "def newton_logistic(X, Y, maxIter, stepSize, lam):\n",
    "    n, d = len(Y), len(X[0])\n",
    "    w = np.matrix(np.zeros(d+1))\n",
    "    for _ in range(maxIter):\n",
    "        g, H = np.matrix(np.zeros(d+1)), np.empty([d+1,d+1])\n",
    "        H.fill(0)\n",
    "        # print(H.shape)\n",
    "        for i in range(n):\n",
    "            x = np.matrix(np.append(X[i], [1]))\n",
    "            # print(x)\n",
    "            p = sgm(np.matmul(w, x.T))\n",
    "            g += (p - (1 + Y[i]) / 2) * x + lam * w\n",
    "            H += p * (1 - p) * np.matmul(x.transpose(), x) + lam * np.identity(d+1)\n",
    "        # print(H.shape, g.shape)\n",
    "        inv = LA.solve(H, g.T)\n",
    "        # print(inv.T)\n",
    "        w -= stepSize * inv.T\n",
    "        # print(w)\n",
    "        # print(k)\n",
    "    return w"
   ]
  },
  {
   "cell_type": "code",
   "execution_count": 62,
   "metadata": {},
   "outputs": [],
   "source": [
    "# Cross-validation\n",
    "lambda_lst = range(50)\n",
    "p_lst = np.zeros(50)\n",
    "for k, lam in enumerate(lambda_lst):\n",
    "    for l in range(10):\n",
    "        train_x, train_y, test_x, test_y = np.array([]), np.array([]), np.array([]), np.array([])\n",
    "        for i in range(10):\n",
    "            if i != l:\n",
    "                train_x = np.append(train_x, X[i], axis = 0) if len(train_x != 0) else X[i]\n",
    "                train_y = np.append(train_y, Y[i], axis = 0) if len(train_y != 0) else Y[i]\n",
    "            else:\n",
    "                test_x, test_y = X[i], Y[i]\n",
    "        w = np.asarray(newton_logistic(train_x, train_y, 10, 0.1, lam)).flatten()\n",
    "        w, w_0 = w[:-1], w[-1]\n",
    "        correct, incorrect = 0, 0\n",
    "        for i in range(len(test_y)):\n",
    "            y = np.dot(w, test_x[i]) + w_0 \n",
    "            y = 1 if y >= 0 else -1\n",
    "            if y == test_y[i]:\n",
    "                correct += 1\n",
    "            else:\n",
    "                incorrect += 1\n",
    "        p_lst[k] += correct / (correct + incorrect)\n",
    "        # print(k, l)\n",
    "    p_lst[k] /= 10"
   ]
  },
  {
   "cell_type": "code",
   "execution_count": 63,
   "metadata": {},
   "outputs": [
    {
     "name": "stdout",
     "output_type": "stream",
     "text": [
      " lambda  Accuracy\n",
      "      0     0.859\n",
      "      1     0.880\n",
      "      2     0.883\n",
      "      3     0.884\n",
      "      4     0.881\n",
      "      5     0.884\n",
      "      6     0.886\n",
      "      7     0.885\n",
      "      8     0.884\n",
      "      9     0.883\n",
      "     10     0.884\n",
      "     11     0.886\n",
      "     12     0.886\n",
      "     13     0.885\n",
      "     14     0.884\n",
      "     15     0.883\n",
      "     16     0.883\n",
      "     17     0.883\n",
      "     18     0.884\n",
      "     19     0.886\n",
      "     20     0.884\n",
      "     21     0.884\n",
      "     22     0.884\n",
      "     23     0.884\n",
      "     24     0.884\n",
      "     25     0.884\n",
      "     26     0.884\n",
      "     27     0.884\n",
      "     28     0.884\n",
      "     29     0.884\n",
      "     30     0.883\n",
      "     31     0.882\n",
      "     32     0.883\n",
      "     33     0.883\n",
      "     34     0.883\n",
      "     35     0.883\n",
      "     36     0.883\n",
      "     37     0.883\n",
      "     38     0.882\n",
      "     39     0.882\n",
      "     40     0.882\n",
      "     41     0.882\n",
      "     42     0.882\n",
      "     43     0.882\n",
      "     44     0.882\n",
      "     45     0.882\n",
      "     46     0.882\n",
      "     47     0.881\n",
      "     48     0.881\n",
      "     49     0.881\n",
      "The best lambda value is [ 6 11 12 19]\n"
     ]
    },
    {
     "data": {
      "text/plain": [
       "Text(0, 0.5, 'Cross-validation accuracy')"
      ]
     },
     "execution_count": 63,
     "metadata": {},
     "output_type": "execute_result"
    },
    {
     "data": {
      "image/png": "[encoded data removed]",
      "text/plain": [
       "<Figure size 432x288 with 1 Axes>"
      ]
     },
     "metadata": {
      "needs_background": "light"
     },
     "output_type": "display_data"
    }
   ],
   "source": [
    "report = pd.DataFrame(data={'lambda': lambda_lst, 'Accuracy': p_lst})\n",
    "lam = np.take(lambda_lst, np.where(p_lst == max(p_lst)), axis=0)\n",
    "print(report.to_string(index=False))\n",
    "print(f\"The best lambda value is {lam[0]}\")\n",
    "\n",
    "# draw a graph that shows the cross-validation accuracy of logistic regression as lambda varies\n",
    "plt.figure(1)\n",
    "plt.plot(lambda_lst, p_lst)\n",
    "plt.xlabel(\"lambda\")\n",
    "plt.ylabel(\"Cross-validation accuracy\")"
   ]
  },
  {
   "cell_type": "code",
   "execution_count": 64,
   "metadata": {},
   "outputs": [
    {
     "name": "stdout",
     "output_type": "stream",
     "text": [
      " lambda  Accuracy\n",
      "      6  0.900000\n",
      "     11  0.890909\n",
      "     12  0.890909\n",
      "     19  0.900000\n"
     ]
    }
   ],
   "source": [
    "all_X = np.concatenate(X, axis = 0)\n",
    "all_Y = np.concatenate(Y, axis = 0)\n",
    "feature_w = np.zeros([len(lam[0]), len(X_1[0])+1])\n",
    "for i, l in enumerate(lam[0]):\n",
    "    # print(feature_w[i].shape)\n",
    "    feature_w[i] = np.asarray(newton_logistic(all_X, all_Y, 10, 0.1, l)).flatten()\n",
    "accuracy = np.zeros(len(feature_w))\n",
    "for k, l in enumerate(feature_w):\n",
    "    r, w = 0, 0\n",
    "    for i in range(len(test_Y)):\n",
    "        x = np.append(test_X[i], [1])\n",
    "        y = np.dot(l, x)\n",
    "        prob = sgm(y)\n",
    "        if prob >= 0.5:\n",
    "            if test_Y[i] == 1: r += 1\n",
    "            else: w += 1\n",
    "        else:\n",
    "            if test_Y[i] == -1: r += 1\n",
    "            else: w += 1\n",
    "    accuracy[k] = r / (r + w)\n",
    "report = pd.DataFrame(data={'lambda':lam[0], 'Accuracy': accuracy})\n",
    "print(report.to_string(index=False))"
   ]
  },
  {
   "cell_type": "code",
   "execution_count": 65,
   "metadata": {},
   "outputs": [
    {
     "name": "stdout",
     "output_type": "stream",
     "text": [
      "We find four lambdas that has the maximum accuracy.\n",
      "Lambda value: 6\n",
      "w = [ 0.00179785 -0.00181426 -0.01589582 -0.0039954  -0.0143161  -0.02973412\n",
      " -0.00574083 -0.00083558 -0.00828271 -0.0058612  -0.0201823   0.00083841\n",
      " -0.01062595 -0.02285495 -0.00243332  0.00418115 -0.0008408  -0.01030262\n",
      " -0.00498467  0.0074636  -0.00464429  0.00285369  0.00384346  0.0033522\n",
      " -0.00482153 -0.00624247  0.00064874 -0.01087162 -0.01345363 -0.00232591\n",
      "  0.00522761 -0.00055225 -0.0033689   0.00540315  0.01629094  0.00979014\n",
      "  0.00201263  0.00864601  0.0024932   0.00438504  0.00247113  0.00315333\n",
      "  0.0394552   0.02051067 -0.00040089 -0.00219243  0.00897477  0.00115822\n",
      " -0.00184894  0.007873    0.01151867  0.01126569 -0.01292794  0.00797858\n",
      "  0.01816413  0.0005114   0.00433908  0.00566246 -0.02198182 -0.01015395\n",
      "  0.00975681  0.01863661  0.00512818  0.00236447]\n",
      "w0 = -0.0006115021552480576\n",
      "---------------------------------\n",
      "Lambda value: 11\n",
      "w = [ 0.00120843 -0.00120696 -0.01371048 -0.00363028 -0.01196962 -0.02344172\n",
      " -0.00479431 -0.0001195  -0.005222   -0.00567263 -0.01573284  0.00073733\n",
      " -0.00887442 -0.01709153 -0.00236566  0.00268317  0.00013954 -0.0082165\n",
      " -0.00411833  0.0062933  -0.00408983  0.00164722  0.00235474  0.00262901\n",
      " -0.00292028 -0.00500571  0.00016804 -0.00939696 -0.01058322 -0.00294687\n",
      "  0.00361538 -0.00054378 -0.00169317  0.00439471  0.01349508  0.00794819\n",
      "  0.00187677  0.00608283  0.00138217  0.0028094   0.00152568  0.00309444\n",
      "  0.03061086  0.01654589 -0.00021381 -0.00082896  0.00887734  0.00070812\n",
      " -0.00062901  0.00469514  0.00917952  0.00922793 -0.01036627  0.00672938\n",
      "  0.01527079  0.00068206  0.00302024  0.00317629 -0.0174782  -0.00804954\n",
      "  0.00853401  0.01565638  0.00483813  0.00172844]\n",
      "w0 = -0.00040118643446816825\n",
      "---------------------------------\n",
      "Lambda value: 12\n",
      "w = [ 1.13547663e-03 -1.13413617e-03 -1.33283393e-02 -3.54009377e-03\n",
      " -1.16001492e-02 -2.25432806e-02 -4.64246067e-03 -5.80803190e-05\n",
      " -4.85994220e-03 -5.58498083e-03 -1.51078821e-02  7.17525126e-04\n",
      " -8.59055601e-03 -1.63204327e-02 -2.33428967e-03  2.49891269e-03\n",
      "  2.21853144e-04 -7.91327947e-03 -3.96977511e-03  6.10103624e-03\n",
      " -3.98368976e-03  1.51788580e-03  2.18211817e-03  2.51162108e-03\n",
      " -2.70814064e-03 -4.81950301e-03  1.26488108e-04 -9.12646238e-03\n",
      " -1.01808498e-02 -2.97808801e-03  3.41797910e-03 -5.37120548e-04\n",
      " -1.52237475e-03  4.23698834e-03  1.30570636e-02  7.66935316e-03\n",
      "  1.85651517e-03  5.76063347e-03  1.25629009e-03  2.61835552e-03\n",
      "  1.41019819e-03  3.05111788e-03  2.93661986e-02  1.59517088e-02\n",
      " -1.86841414e-04 -6.77327426e-04  8.75470868e-03  6.68286725e-04\n",
      " -5.00140851e-04  4.31975138e-03  8.85621099e-03  8.92047254e-03\n",
      " -9.98273099e-03  6.52712522e-03  1.48034707e-02  6.91964396e-04\n",
      "  2.84947264e-03  2.89704448e-03 -1.68150326e-02 -7.74758118e-03\n",
      "  8.30816686e-03  1.51746002e-02  4.75070651e-03  1.62703604e-03]\n",
      "w0 = -0.0003762187560330686\n",
      "---------------------------------\n",
      "Lambda value: 19\n",
      "w = [ 7.98954455e-04 -8.08501511e-04 -1.11310698e-02 -2.96657041e-03\n",
      " -9.56739273e-03 -1.79260624e-02 -3.80930789e-03  1.42593527e-04\n",
      " -3.25956835e-03 -4.93119867e-03 -1.19240760e-02  6.08342390e-04\n",
      " -7.02972812e-03 -1.25419707e-02 -2.09173710e-03  1.66321194e-03\n",
      "  4.76350852e-04 -6.34240897e-03 -3.14631178e-03  5.03269925e-03\n",
      " -3.35477472e-03  9.74252490e-04  1.42773755e-03  1.90164864e-03\n",
      " -1.80326022e-03 -3.84231029e-03 -2.30148120e-06 -7.55701360e-03\n",
      " -8.11863648e-03 -2.92673920e-03  2.49875931e-03 -4.84920707e-04\n",
      " -8.44619342e-04  3.39285640e-03  1.06852718e-02  6.19431374e-03\n",
      "  1.71289649e-03  4.25150957e-03  7.19320794e-04  1.75898196e-03\n",
      "  8.92889709e-04  2.70751296e-03  2.30650322e-02  1.28254657e-02\n",
      " -6.12773544e-05 -6.26260929e-05  7.76641008e-03  5.09045568e-04\n",
      " -4.20271018e-06  2.67600573e-03  7.19403117e-03  7.27979566e-03\n",
      " -7.96591816e-03  5.40415069e-03  1.22161393e-02  6.84083281e-04\n",
      "  2.04093304e-03  1.71770923e-03 -1.33697871e-02 -6.18178456e-03\n",
      "  6.98695701e-03  1.25115328e-02  4.14172687e-03  1.11194048e-03]\n",
      "w0 = -0.00026263693221609865\n"
     ]
    }
   ],
   "source": [
    "print(\"We find four lambdas that has the maximum accuracy.\")\n",
    "\n",
    "for i, l in enumerate(lam[0]):\n",
    "    print(f\"Lambda value: {l}\")\n",
    "    print(f\"w = {feature_w[i][:-1]}\")\n",
    "    print(f\"w0 = {feature_w[i][-1]}\")\n",
    "    if i < len(lam[0])-1:\n",
    "        print(\"---------------------------------\")"
   ]
  },
  {
   "cell_type": "markdown",
   "metadata": {},
   "source": [
    "Comparing to the KNN technique, which predicts the y-value by finding the k-nearest neighbour of $x$ in the training set, the logistic regression has less expressivity once the testing sets are more complicated than training set. Since it has the boundry of being a logistic function, its result will be limited. However, with KNN, we can have less boundaries, since we predict $y$ directly based on the closest neighbours of $x$ in the training set, which could give us a better result.\n",
    "\n",
    "On the other hand, since we can use a regularization term with the logistic regression while KNN doesn't, KNN could have a higer possibility of overfitting than logistic regression, which makes it less expressive in this context.\n",
    "\n"
   ]
  }
 ],
 "metadata": {
  "interpreter": {
   "hash": "31f2aee4e71d21fbe5cf8b01ff0e069b9275f58929596ceb00d14d90e3e16cd6"
  },
  "kernelspec": {
   "display_name": "Python 3.8.9 64-bit",
   "language": "python",
   "name": "python3"
  },
  "language_info": {
   "codemirror_mode": {
    "name": "ipython",
    "version": 3
   },
   "file_extension": ".py",
   "mimetype": "text/x-python",
   "name": "python",
   "nbconvert_exporter": "python",
   "pygments_lexer": "ipython3",
   "version": "3.8.8"
  },
  "orig_nbformat": 4
 },
 "nbformat": 4,
 "nbformat_minor": 2
}
